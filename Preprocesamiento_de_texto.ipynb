{
  "cells": [
    {
      "cell_type": "markdown",
      "metadata": {
        "id": "view-in-github",
        "colab_type": "text"
      },
      "source": [
        "<a href=\"https://colab.research.google.com/github/cchavarriaga/ucentral_cchavarriaga/blob/main/Preprocesamiento_de_texto.ipynb\" target=\"_parent\"><img src=\"https://colab.research.google.com/assets/colab-badge.svg\" alt=\"Open In Colab\"/></a>"
      ]
    },
    {
      "cell_type": "markdown",
      "metadata": {
        "id": "z_UHTvz_nUag"
      },
      "source": [
        "# Procesamiento de lenguaje natural\n",
        "\n",
        "*Carlos Isaac Zainea Maya* \n",
        "\n",
        "**Clase 2**\n",
        "\n"
      ]
    },
    {
      "cell_type": "markdown",
      "metadata": {
        "id": "z17D67mEnUai"
      },
      "source": [
        "## Funciones elementales\n",
        "\n",
        "Python es un lenguaje de programación que ha permeado muchas ramas del conocimiento, la industria y la empresa. En el caso del procesamientro de textos es uno de los más fáciles y flexibles de trabajar. Empezemos con un texto simple y veamos algunas funciones elementales:"
      ]
    },
    {
      "cell_type": "code",
      "execution_count": 2,
      "metadata": {
        "id": "-38zF33unUal"
      },
      "outputs": [],
      "source": [
        "Texto1=\"\\r Donald Knuth:\\n \\n  \\r Se    le conoce principalmente por ser el autor de la obra The Art of Computer Programming (El arte de programar computadoras), una de las más respetadas referencias en el campo de las ciencias de la computación. Sentó las bases y dio nombre al análisis de algoritmos, y ha realizado numerosos aportes a varias ramas teóricas de la informática. Es el creador de TEX, del sistema de diseño de tipos METAFONT y del estilo de programación conocido como programación literaria (Literate programming). Knuth es conocido como el 'padre del análisis de algoritmos'.\\n \""
      ]
    },
    {
      "cell_type": "code",
      "source": [
        ""
      ],
      "metadata": {
        "id": "7i5rGVBCaUDu"
      },
      "execution_count": null,
      "outputs": []
    },
    {
      "cell_type": "code",
      "execution_count": 3,
      "metadata": {
        "colab": {
          "base_uri": "https://localhost:8080/"
        },
        "id": "bxOERzdVnUay",
        "outputId": "ea6a1961-7217-4638-e4c9-f313a984a971"
      },
      "outputs": [
        {
          "output_type": "stream",
          "name": "stdout",
          "text": [
            "\r Donald Knuth:\n",
            " \n",
            "  \r Se    le conoce principalmente por ser el autor de la obra The Art of Computer Programming (El arte de programar computadoras), una de las más respetadas referencias en el campo de las ciencias de la computación. Sentó las bases y dio nombre al análisis de algoritmos, y ha realizado numerosos aportes a varias ramas teóricas de la informática. Es el creador de TEX, del sistema de diseño de tipos METAFONT y del estilo de programación conocido como programación literaria (Literate programming). Knuth es conocido como el 'padre del análisis de algoritmos'.\n",
            " \n"
          ]
        }
      ],
      "source": [
        "print(Texto1)"
      ]
    },
    {
      "cell_type": "markdown",
      "metadata": {
        "id": "AjOt1iiQnUa6"
      },
      "source": [
        "**split**\n",
        "\n",
        "`split()` es un comando que  corta textos con un delimitador dado, usualmente se usa como delimitador el espació: `\" \"` para obtener una lista de palabras:"
      ]
    },
    {
      "cell_type": "code",
      "execution_count": 10,
      "metadata": {
        "colab": {
          "base_uri": "https://localhost:8080/"
        },
        "id": "tt95yU5PnUa8",
        "outputId": "749e3241-3b3b-4b49-ea60-3f9dcbb75484"
      },
      "outputs": [
        {
          "output_type": "execute_result",
          "data": {
            "text/plain": [
              "['Donald',\n",
              " 'Knuth:',\n",
              " 'Se',\n",
              " 'le',\n",
              " 'conoce',\n",
              " 'principalmente',\n",
              " 'por',\n",
              " 'ser',\n",
              " 'el',\n",
              " 'autor',\n",
              " 'de',\n",
              " 'la',\n",
              " 'obra',\n",
              " 'The',\n",
              " 'Art',\n",
              " 'of',\n",
              " 'Computer',\n",
              " 'Programming',\n",
              " '(El',\n",
              " 'arte',\n",
              " 'de',\n",
              " 'programar',\n",
              " 'computadoras),',\n",
              " 'una',\n",
              " 'de',\n",
              " 'las',\n",
              " 'más',\n",
              " 'respetadas',\n",
              " 'referencias',\n",
              " 'en',\n",
              " 'el',\n",
              " 'campo',\n",
              " 'de',\n",
              " 'las',\n",
              " 'ciencias',\n",
              " 'de',\n",
              " 'la',\n",
              " 'computación.',\n",
              " 'Sentó',\n",
              " 'las',\n",
              " 'bases',\n",
              " 'y',\n",
              " 'dio',\n",
              " 'nombre',\n",
              " 'al',\n",
              " 'análisis',\n",
              " 'de',\n",
              " 'algoritmos,',\n",
              " 'y',\n",
              " 'ha',\n",
              " 'realizado',\n",
              " 'numerosos',\n",
              " 'aportes',\n",
              " 'a',\n",
              " 'varias',\n",
              " 'ramas',\n",
              " 'teóricas',\n",
              " 'de',\n",
              " 'la',\n",
              " 'informática.',\n",
              " 'Es',\n",
              " 'el',\n",
              " 'creador',\n",
              " 'de',\n",
              " 'TEX,',\n",
              " 'del',\n",
              " 'sistema',\n",
              " 'de',\n",
              " 'diseño',\n",
              " 'de',\n",
              " 'tipos',\n",
              " 'METAFONT',\n",
              " 'y',\n",
              " 'del',\n",
              " 'estilo',\n",
              " 'de',\n",
              " 'programación',\n",
              " 'conocido',\n",
              " 'como',\n",
              " 'programación',\n",
              " 'literaria',\n",
              " '(Literate',\n",
              " 'programming).',\n",
              " 'Knuth',\n",
              " 'es',\n",
              " 'conocido',\n",
              " 'como',\n",
              " 'el',\n",
              " \"'padre\",\n",
              " 'del',\n",
              " 'análisis',\n",
              " 'de',\n",
              " \"algoritmos'.\"]"
            ]
          },
          "metadata": {},
          "execution_count": 10
        }
      ],
      "source": [
        "\n",
        "Texto1.split()"
      ]
    },
    {
      "cell_type": "code",
      "source": [
        "#con r al principio muestra todos los caracteres\n",
        "Texto2=r\"\\r Donald Knuth:\\n \\n  \\r Se    le conoce principalmente por ser el autor de la obra The Art of Computer Programming (El arte de programar computadoras), una de las más respetadas referencias en el campo de las ciencias de la computación. Sentó las bases y dio nombre al análisis de algoritmos, y ha realizado numerosos aportes a varias ramas teóricas de la informática. Es el creador de TEX, del sistema de diseño de tipos METAFONT y del estilo de programación conocido como programación literaria (Literate programming). Knuth es conocido como el 'padre del análisis de algoritmos'.\\n \""
      ],
      "metadata": {
        "id": "Y53HCEW9aj9C"
      },
      "execution_count": 11,
      "outputs": []
    },
    {
      "cell_type": "code",
      "source": [
        "Texto2.split()"
      ],
      "metadata": {
        "colab": {
          "base_uri": "https://localhost:8080/"
        },
        "id": "F626cPw2apPP",
        "outputId": "73057c03-ff70-4994-9222-67244ed1fe54"
      },
      "execution_count": 6,
      "outputs": [
        {
          "output_type": "execute_result",
          "data": {
            "text/plain": [
              "['\\\\r',\n",
              " 'Donald',\n",
              " 'Knuth:\\\\n',\n",
              " '\\\\n',\n",
              " '\\\\r',\n",
              " 'Se',\n",
              " 'le',\n",
              " 'conoce',\n",
              " 'principalmente',\n",
              " 'por',\n",
              " 'ser',\n",
              " 'el',\n",
              " 'autor',\n",
              " 'de',\n",
              " 'la',\n",
              " 'obra',\n",
              " 'The',\n",
              " 'Art',\n",
              " 'of',\n",
              " 'Computer',\n",
              " 'Programming',\n",
              " '(El',\n",
              " 'arte',\n",
              " 'de',\n",
              " 'programar',\n",
              " 'computadoras),',\n",
              " 'una',\n",
              " 'de',\n",
              " 'las',\n",
              " 'más',\n",
              " 'respetadas',\n",
              " 'referencias',\n",
              " 'en',\n",
              " 'el',\n",
              " 'campo',\n",
              " 'de',\n",
              " 'las',\n",
              " 'ciencias',\n",
              " 'de',\n",
              " 'la',\n",
              " 'computación.',\n",
              " 'Sentó',\n",
              " 'las',\n",
              " 'bases',\n",
              " 'y',\n",
              " 'dio',\n",
              " 'nombre',\n",
              " 'al',\n",
              " 'análisis',\n",
              " 'de',\n",
              " 'algoritmos,',\n",
              " 'y',\n",
              " 'ha',\n",
              " 'realizado',\n",
              " 'numerosos',\n",
              " 'aportes',\n",
              " 'a',\n",
              " 'varias',\n",
              " 'ramas',\n",
              " 'teóricas',\n",
              " 'de',\n",
              " 'la',\n",
              " 'informática.',\n",
              " 'Es',\n",
              " 'el',\n",
              " 'creador',\n",
              " 'de',\n",
              " 'TEX,',\n",
              " 'del',\n",
              " 'sistema',\n",
              " 'de',\n",
              " 'diseño',\n",
              " 'de',\n",
              " 'tipos',\n",
              " 'METAFONT',\n",
              " 'y',\n",
              " 'del',\n",
              " 'estilo',\n",
              " 'de',\n",
              " 'programación',\n",
              " 'conocido',\n",
              " 'como',\n",
              " 'programación',\n",
              " 'literaria',\n",
              " '(Literate',\n",
              " 'programming).',\n",
              " 'Knuth',\n",
              " 'es',\n",
              " 'conocido',\n",
              " 'como',\n",
              " 'el',\n",
              " \"'padre\",\n",
              " 'del',\n",
              " 'análisis',\n",
              " 'de',\n",
              " \"algoritmos'.\\\\n\"]"
            ]
          },
          "metadata": {},
          "execution_count": 6
        }
      ]
    },
    {
      "cell_type": "markdown",
      "metadata": {
        "id": "OCqi675KnUbD"
      },
      "source": [
        "\n",
        "**strip**\n",
        "\n",
        "El anterior texto tiene caracteres de generación de espacios en blanco, tales como \\n y \\r.\n",
        "\n",
        "El comando `strip()` permite borrar esos comando auxiliares del texto al final e inicio del texto. "
      ]
    },
    {
      "cell_type": "code",
      "execution_count": 13,
      "metadata": {
        "colab": {
          "base_uri": "https://localhost:8080/",
          "height": 91
        },
        "id": "QssW5kYdnUbE",
        "outputId": "d514752b-1e5c-4daa-c7d2-065103ca6979"
      },
      "outputs": [
        {
          "output_type": "execute_result",
          "data": {
            "text/plain": [
              "\"Donald Knuth:\\n \\n  \\r Se    le conoce principalmente por ser el autor de la obra The Art of Computer Programming (El arte de programar computadoras), una de las más respetadas referencias en el campo de las ciencias de la computación. Sentó las bases y dio nombre al análisis de algoritmos, y ha realizado numerosos aportes a varias ramas teóricas de la informática. Es el creador de TEX, del sistema de diseño de tipos METAFONT y del estilo de programación conocido como programación literaria (Literate programming). Knuth es conocido como el 'padre del análisis de algoritmos'.\""
            ],
            "application/vnd.google.colaboratory.intrinsic+json": {
              "type": "string"
            }
          },
          "metadata": {},
          "execution_count": 13
        }
      ],
      "source": [
        "Texto1.strip()"
      ]
    },
    {
      "cell_type": "code",
      "source": [
        "Ejemplo= \"\"\"\n",
        "**************************************************\n",
        "El texto de prueba \n",
        "**************************************************\n",
        "rrrrrrrrrrr............fffffffffffff\n",
        "\"\"\"\n",
        "print(Ejemplo)"
      ],
      "metadata": {
        "colab": {
          "base_uri": "https://localhost:8080/"
        },
        "id": "nYBzH55TbfaD",
        "outputId": "a9d63f7b-1233-4e12-e492-01bbf4d86d9d"
      },
      "execution_count": 23,
      "outputs": [
        {
          "output_type": "stream",
          "name": "stdout",
          "text": [
            "\n",
            "**************************************************\n",
            "El texto de prueba \n",
            "**************************************************\n",
            "rrrrrrrrrrr............fffffffffffff\n",
            "\n"
          ]
        }
      ]
    },
    {
      "cell_type": "code",
      "source": [
        "Ejemplo.strip().strip(\"*rf.\").strip().strip(\"*rf.\")"
      ],
      "metadata": {
        "colab": {
          "base_uri": "https://localhost:8080/",
          "height": 36
        },
        "id": "JLJGbkyub_tB",
        "outputId": "14707994-03c1-4771-fc3a-3c99bf9d000e"
      },
      "execution_count": 18,
      "outputs": [
        {
          "output_type": "execute_result",
          "data": {
            "text/plain": [
              "'El texto de prueba \\n'"
            ],
            "application/vnd.google.colaboratory.intrinsic+json": {
              "type": "string"
            }
          },
          "metadata": {},
          "execution_count": 18
        }
      ]
    },
    {
      "cell_type": "code",
      "source": [
        "Ejemplo.replace(\"r\",\"\").replace(\"f\",\"\").replace(\"*\",\"\").replace(\".\",\"\")"
      ],
      "metadata": {
        "colab": {
          "base_uri": "https://localhost:8080/",
          "height": 36
        },
        "id": "EFJGYhDzcie9",
        "outputId": "4b3d1024-bd46-4764-ee06-49eaeed43543"
      },
      "execution_count": 29,
      "outputs": [
        {
          "output_type": "execute_result",
          "data": {
            "text/plain": [
              "'\\n\\nEl texto de pueba \\n\\n\\n'"
            ],
            "application/vnd.google.colaboratory.intrinsic+json": {
              "type": "string"
            }
          },
          "metadata": {},
          "execution_count": 29
        }
      ]
    },
    {
      "cell_type": "markdown",
      "metadata": {
        "id": "aIfOMe22nUbL"
      },
      "source": [
        "**Upper y lower**\n",
        "\n",
        "\n",
        "En ocasiones tenemos un montón de palabras que significan lo mismo pero para la máquina son iguales por el uso de mayúsculas y minúsculas propias de cada uno de los lenguajes.\n",
        "\n",
        "`upper()` y  `lower()` resuelven este problema dejando todas las letras del texto en Mayúscula o minúsculas respectivamente:"
      ]
    },
    {
      "cell_type": "code",
      "execution_count": null,
      "metadata": {
        "id": "fAeP0K7PnUbN"
      },
      "outputs": [],
      "source": [
        "Texto1.upper()"
      ]
    },
    {
      "cell_type": "code",
      "execution_count": null,
      "metadata": {
        "id": "KQMCx_DunUbV"
      },
      "outputs": [],
      "source": [
        "Texto1.lower()"
      ]
    },
    {
      "cell_type": "code",
      "execution_count": null,
      "metadata": {
        "id": "Y9c75tf-nUba"
      },
      "outputs": [],
      "source": [
        "Texto1"
      ]
    },
    {
      "cell_type": "markdown",
      "metadata": {
        "id": "6miVifi1nUbg"
      },
      "source": [
        "**Replace**\n",
        "\n",
        "El comando `replace` remplaza en el texto caracteres por otros:"
      ]
    },
    {
      "cell_type": "code",
      "execution_count": null,
      "metadata": {
        "id": "YUzpHmj1nUbg"
      },
      "outputs": [],
      "source": [
        "Texto1.replace(\"o\",\"a\") #Aquí cambiamos o's por a's"
      ]
    },
    {
      "cell_type": "code",
      "execution_count": null,
      "metadata": {
        "id": "9Gt6eW-ZnUbm"
      },
      "outputs": [],
      "source": [
        "Texto1.replace(\"o\",\"a\",10) #el valor despues de los caracteres a remplazar indica la cantidad de remplazos que se quieren hacer."
      ]
    },
    {
      "cell_type": "markdown",
      "metadata": {
        "id": "f9K-m4YpnUbp"
      },
      "source": [
        "## Expresiones regulares\n",
        "\n",
        "Las expresiones regulares son secuencias de caracteres que permiten establecer patrones de búsqueda. Se utilizan en el procesamiento de texto para la identificación de palabras similares y en Python se utilizan llamando el paquete re."
      ]
    },
    {
      "cell_type": "code",
      "execution_count": 30,
      "metadata": {
        "id": "6Giu2BpVnUbr"
      },
      "outputs": [],
      "source": [
        "import re"
      ]
    },
    {
      "cell_type": "markdown",
      "metadata": {
        "id": "xEpVTcq3vk6Y"
      },
      "source": [
        "La siguiente es una secuencia de caractéres que define un patrón de búsqueda:"
      ]
    },
    {
      "cell_type": "code",
      "execution_count": 31,
      "metadata": {
        "colab": {
          "base_uri": "https://localhost:8080/",
          "height": 36
        },
        "id": "DIeRBsL2wAZD",
        "outputId": "edfc4ddd-6e18-48f3-d748-7a65ec6535ce"
      },
      "outputs": [
        {
          "output_type": "execute_result",
          "data": {
            "text/plain": [
              "'^c.....l$'"
            ],
            "application/vnd.google.colaboratory.intrinsic+json": {
              "type": "string"
            }
          },
          "metadata": {},
          "execution_count": 31
        }
      ],
      "source": [
        "\"^c.....l$\""
      ]
    },
    {
      "cell_type": "markdown",
      "metadata": {
        "id": "JUuIzmxOwKkP"
      },
      "source": [
        "Corresponde a la secuencias de letras de longitud 7 que inicia con \"c\" y termina en \"l\":"
      ]
    },
    {
      "cell_type": "code",
      "execution_count": 32,
      "metadata": {
        "colab": {
          "base_uri": "https://localhost:8080/"
        },
        "id": "LjA1jwluwJpP",
        "outputId": "5f29a4b6-61d9-4490-a6ba-f8375d3cf90e"
      },
      "outputs": [
        {
          "output_type": "stream",
          "name": "stdout",
          "text": [
            "Search successful.\n"
          ]
        }
      ],
      "source": [
        "\n",
        "pattern = '^c.....l$'\n",
        "result = re.match(pattern, \"centr,l\")\n",
        "if result:\n",
        "  print(\"Search successful.\")\n",
        "else:\n",
        "  print(\"Search unsuccessful.\")\t"
      ]
    },
    {
      "cell_type": "code",
      "source": [
        "#para una lista [lag]\n",
        "pattern = '^c.....[lag]$'\n",
        "result = re.match(pattern, \"centrag\")\n",
        "if result:\n",
        "  print(\"Search successful.\")\n",
        "else:\n",
        "  print(\"Search unsuccessful.\")\t"
      ],
      "metadata": {
        "colab": {
          "base_uri": "https://localhost:8080/"
        },
        "id": "DWzFXtqeeWoq",
        "outputId": "4ffb540f-a4d1-41dd-8658-59fb9309c86d"
      },
      "execution_count": 34,
      "outputs": [
        {
          "output_type": "stream",
          "name": "stdout",
          "text": [
            "Search successful.\n"
          ]
        }
      ]
    },
    {
      "cell_type": "markdown",
      "metadata": {
        "id": "gMWRER8Twt3x"
      },
      "source": [
        "La función match de re determina si los objetos satisfacen las condiciones del patrón. Para más funciones visitar [Regex Documentation](https://docs.python.org/3/howto/regex.html). \n",
        "\n",
        "Observe que en el anterior ejemplo se usó ^ y $, estos caracteres se conocen como metacaracteres y tienen una interpretación especial en Python.\n",
        "\n",
        "Una lista de metacaracteres es:\n",
        "\n",
        "**[] . ^ $ * + ? {} () \\ |**\n",
        "\n",
        "**Paréntesis cuadrados**\n",
        "\n",
        "Definen conjuntos de caracteres:\n",
        "\n"
      ]
    },
    {
      "cell_type": "code",
      "execution_count": 35,
      "metadata": {
        "colab": {
          "base_uri": "https://localhost:8080/",
          "height": 36
        },
        "id": "tyo_hfxTws_k",
        "outputId": "f96227e9-af2e-4de5-963e-d7fb79ff359f"
      },
      "outputs": [
        {
          "output_type": "execute_result",
          "data": {
            "text/plain": [
              "'Hay 5 peras y RR manzanas'"
            ],
            "application/vnd.google.colaboratory.intrinsic+json": {
              "type": "string"
            }
          },
          "metadata": {},
          "execution_count": 35
        }
      ],
      "source": [
        "#sub sirve para sustituir\n",
        "re.sub(\"[123]\",\"RR\", \"Hay 5 peras y 2 manzanas\")"
      ]
    },
    {
      "cell_type": "code",
      "source": [
        "#cada vez que saque los nombre\n",
        "\n",
        "Lista_correos=[\"carlos.zainea@nlp.com\",\"juan.ramirez05@nlp.com\",\"lina.mendez12@nlp.com\"]\n",
        "\n",
        "#lis1 = Lista_correos.split(\"@\")\n",
        "\n",
        "for i in range(3):\n",
        "  print(Lista_correos[i])\n",
        "  list1 = Lista_correos[i].split(\"@\")\n",
        "  print(list1)\n",
        "\n"
      ],
      "metadata": {
        "colab": {
          "base_uri": "https://localhost:8080/"
        },
        "id": "SiRPVMJEfF76",
        "outputId": "d79dbcfa-c724-4301-f366-5a37ae784cc2"
      },
      "execution_count": 47,
      "outputs": [
        {
          "output_type": "stream",
          "name": "stdout",
          "text": [
            "carlos.zainea@nlp.com\n",
            "['carlos.zainea', 'nlp.com']\n",
            "juan.ramirez05@nlp.com\n",
            "['juan.ramirez05', 'nlp.com']\n",
            "lina.mendez12@nlp.com\n",
            "['lina.mendez12', 'nlp.com']\n"
          ]
        }
      ]
    },
    {
      "cell_type": "code",
      "source": [
        "Lista_correos=[\"carlos.zainea@nlp.com\",\"juan.ramirez05@nlp.com\",\"lina.mendez12@nlp.com\"]\n",
        "\n",
        "Lista_usuarios = []\n",
        "for i in Lista_correos:\n",
        "  Lista_usuarios.append(re.split(\"[@.]\",i)[:-2])\n",
        "\n",
        "Lista_usuarios\n",
        "\n"
      ],
      "metadata": {
        "colab": {
          "base_uri": "https://localhost:8080/"
        },
        "id": "0gwSm7bEg5yU",
        "outputId": "4ea9c2fd-5be1-4006-b79d-94568fa29e1e"
      },
      "execution_count": 51,
      "outputs": [
        {
          "output_type": "execute_result",
          "data": {
            "text/plain": [
              "[['carlos', 'zainea'], ['juan', 'ramirez05'], ['lina', 'mendez12']]"
            ]
          },
          "metadata": {},
          "execution_count": 51
        }
      ]
    },
    {
      "cell_type": "code",
      "source": [
        "Lista_correos[1].re.split(\"[@.]\",\"juan.ramirez@nlp.com\")[:-2]+[1])"
      ],
      "metadata": {
        "colab": {
          "base_uri": "https://localhost:8080/",
          "height": 135
        },
        "id": "4WPR3uuXi1nF",
        "outputId": "33e4f74d-2983-4f46-aecf-72d5409bf368"
      },
      "execution_count": 56,
      "outputs": [
        {
          "output_type": "error",
          "ename": "SyntaxError",
          "evalue": "ignored",
          "traceback": [
            "\u001b[0;36m  File \u001b[0;32m\"<ipython-input-56-48f3c507d7bd>\"\u001b[0;36m, line \u001b[0;32m1\u001b[0m\n\u001b[0;31m    Lista_correos[1].re.split(\"[@.]\",\"juan.ramirez@nlp.com\")[:-2]+[1])\u001b[0m\n\u001b[0m                                                                     ^\u001b[0m\n\u001b[0;31mSyntaxError\u001b[0m\u001b[0;31m:\u001b[0m invalid syntax\n"
          ]
        }
      ]
    },
    {
      "cell_type": "code",
      "source": [
        "\n",
        "import pandas as pd\n",
        "\n",
        "Lista_correos=[\"carlos.zainea@nlp.com\",\"juan.ramirez05@nlp.com\",\"lina.mendez12@nlp.com\"]\n",
        "\n",
        "import pandas as pd\n",
        "Lista_usuarios=[]\n",
        "for i in Lista_correos:\n",
        "    j=re.sub(\"[0-9]\",\"\",i)\n",
        "    print(j)\n",
        "    Lista_usuarios.append(re.split(\"[@.]\",j)[:-2]+[i])\n",
        "\n",
        "DF_us=pd.DataFrame(Lista_usuarios)\n",
        "DF_us.columns=[\"Nombre\",\"Apellido\",\"Correo\"]\n",
        "DF_us\n",
        "\n"
      ],
      "metadata": {
        "colab": {
          "base_uri": "https://localhost:8080/",
          "height": 228
        },
        "id": "8aiZ1xeUhxQK",
        "outputId": "8d7be39f-0a45-48af-8aae-5c8a7f79599a"
      },
      "execution_count": 52,
      "outputs": [
        {
          "output_type": "stream",
          "name": "stdout",
          "text": [
            "carlos.zainea@nlp.com\n",
            "juan.ramirez@nlp.com\n",
            "lina.mendez@nlp.com\n"
          ]
        },
        {
          "output_type": "execute_result",
          "data": {
            "text/plain": [
              "   Nombre Apellido                  Correo\n",
              "0  carlos   zainea   carlos.zainea@nlp.com\n",
              "1    juan  ramirez  juan.ramirez05@nlp.com\n",
              "2    lina   mendez   lina.mendez12@nlp.com"
            ],
            "text/html": [
              "\n",
              "  <div id=\"df-18231ee9-0f24-4dde-832a-c93296700895\">\n",
              "    <div class=\"colab-df-container\">\n",
              "      <div>\n",
              "<style scoped>\n",
              "    .dataframe tbody tr th:only-of-type {\n",
              "        vertical-align: middle;\n",
              "    }\n",
              "\n",
              "    .dataframe tbody tr th {\n",
              "        vertical-align: top;\n",
              "    }\n",
              "\n",
              "    .dataframe thead th {\n",
              "        text-align: right;\n",
              "    }\n",
              "</style>\n",
              "<table border=\"1\" class=\"dataframe\">\n",
              "  <thead>\n",
              "    <tr style=\"text-align: right;\">\n",
              "      <th></th>\n",
              "      <th>Nombre</th>\n",
              "      <th>Apellido</th>\n",
              "      <th>Correo</th>\n",
              "    </tr>\n",
              "  </thead>\n",
              "  <tbody>\n",
              "    <tr>\n",
              "      <th>0</th>\n",
              "      <td>carlos</td>\n",
              "      <td>zainea</td>\n",
              "      <td>carlos.zainea@nlp.com</td>\n",
              "    </tr>\n",
              "    <tr>\n",
              "      <th>1</th>\n",
              "      <td>juan</td>\n",
              "      <td>ramirez</td>\n",
              "      <td>juan.ramirez05@nlp.com</td>\n",
              "    </tr>\n",
              "    <tr>\n",
              "      <th>2</th>\n",
              "      <td>lina</td>\n",
              "      <td>mendez</td>\n",
              "      <td>lina.mendez12@nlp.com</td>\n",
              "    </tr>\n",
              "  </tbody>\n",
              "</table>\n",
              "</div>\n",
              "      <button class=\"colab-df-convert\" onclick=\"convertToInteractive('df-18231ee9-0f24-4dde-832a-c93296700895')\"\n",
              "              title=\"Convert this dataframe to an interactive table.\"\n",
              "              style=\"display:none;\">\n",
              "        \n",
              "  <svg xmlns=\"http://www.w3.org/2000/svg\" height=\"24px\"viewBox=\"0 0 24 24\"\n",
              "       width=\"24px\">\n",
              "    <path d=\"M0 0h24v24H0V0z\" fill=\"none\"/>\n",
              "    <path d=\"M18.56 5.44l.94 2.06.94-2.06 2.06-.94-2.06-.94-.94-2.06-.94 2.06-2.06.94zm-11 1L8.5 8.5l.94-2.06 2.06-.94-2.06-.94L8.5 2.5l-.94 2.06-2.06.94zm10 10l.94 2.06.94-2.06 2.06-.94-2.06-.94-.94-2.06-.94 2.06-2.06.94z\"/><path d=\"M17.41 7.96l-1.37-1.37c-.4-.4-.92-.59-1.43-.59-.52 0-1.04.2-1.43.59L10.3 9.45l-7.72 7.72c-.78.78-.78 2.05 0 2.83L4 21.41c.39.39.9.59 1.41.59.51 0 1.02-.2 1.41-.59l7.78-7.78 2.81-2.81c.8-.78.8-2.07 0-2.86zM5.41 20L4 18.59l7.72-7.72 1.47 1.35L5.41 20z\"/>\n",
              "  </svg>\n",
              "      </button>\n",
              "      \n",
              "  <style>\n",
              "    .colab-df-container {\n",
              "      display:flex;\n",
              "      flex-wrap:wrap;\n",
              "      gap: 12px;\n",
              "    }\n",
              "\n",
              "    .colab-df-convert {\n",
              "      background-color: #E8F0FE;\n",
              "      border: none;\n",
              "      border-radius: 50%;\n",
              "      cursor: pointer;\n",
              "      display: none;\n",
              "      fill: #1967D2;\n",
              "      height: 32px;\n",
              "      padding: 0 0 0 0;\n",
              "      width: 32px;\n",
              "    }\n",
              "\n",
              "    .colab-df-convert:hover {\n",
              "      background-color: #E2EBFA;\n",
              "      box-shadow: 0px 1px 2px rgba(60, 64, 67, 0.3), 0px 1px 3px 1px rgba(60, 64, 67, 0.15);\n",
              "      fill: #174EA6;\n",
              "    }\n",
              "\n",
              "    [theme=dark] .colab-df-convert {\n",
              "      background-color: #3B4455;\n",
              "      fill: #D2E3FC;\n",
              "    }\n",
              "\n",
              "    [theme=dark] .colab-df-convert:hover {\n",
              "      background-color: #434B5C;\n",
              "      box-shadow: 0px 1px 3px 1px rgba(0, 0, 0, 0.15);\n",
              "      filter: drop-shadow(0px 1px 2px rgba(0, 0, 0, 0.3));\n",
              "      fill: #FFFFFF;\n",
              "    }\n",
              "  </style>\n",
              "\n",
              "      <script>\n",
              "        const buttonEl =\n",
              "          document.querySelector('#df-18231ee9-0f24-4dde-832a-c93296700895 button.colab-df-convert');\n",
              "        buttonEl.style.display =\n",
              "          google.colab.kernel.accessAllowed ? 'block' : 'none';\n",
              "\n",
              "        async function convertToInteractive(key) {\n",
              "          const element = document.querySelector('#df-18231ee9-0f24-4dde-832a-c93296700895');\n",
              "          const dataTable =\n",
              "            await google.colab.kernel.invokeFunction('convertToInteractive',\n",
              "                                                     [key], {});\n",
              "          if (!dataTable) return;\n",
              "\n",
              "          const docLinkHtml = 'Like what you see? Visit the ' +\n",
              "            '<a target=\"_blank\" href=https://colab.research.google.com/notebooks/data_table.ipynb>data table notebook</a>'\n",
              "            + ' to learn more about interactive tables.';\n",
              "          element.innerHTML = '';\n",
              "          dataTable['output_type'] = 'display_data';\n",
              "          await google.colab.output.renderOutput(dataTable, element);\n",
              "          const docLink = document.createElement('div');\n",
              "          docLink.innerHTML = docLinkHtml;\n",
              "          element.appendChild(docLink);\n",
              "        }\n",
              "      </script>\n",
              "    </div>\n",
              "  </div>\n",
              "  "
            ]
          },
          "metadata": {},
          "execution_count": 52
        }
      ]
    },
    {
      "cell_type": "code",
      "source": [
        "import pandas as pd\n",
        "Lista_correos=[\"carlos.zainea@nlp.com\",\"juan.ramirez05@nlp.com\",\"lina.mendez12@nlp.com\"]\n",
        "Lista_nombres=[]\n",
        "for i in Lista_correos:\n",
        "  j=re.sub(\"[0-9]\",\"\",i)\n",
        "  print(j)\n",
        "  nom_ape=re.split(\"[@.]\",j)[:-2]\n",
        "  Lista_nombres.append(nom_ape+[nom_ape[0]+\" \"+nom_ape[1]]+[i])\n",
        "\n",
        "DF_nm=pd.DataFrame(Lista_nombres)\n",
        "DF_nm.columns=[\"Nombre\",\"Apellido\",\"Nombre apellido\", \"Correo\"]\n",
        "DF_nm"
      ],
      "metadata": {
        "colab": {
          "base_uri": "https://localhost:8080/",
          "height": 199
        },
        "id": "zrXYwEb_qsTf",
        "outputId": "c8663c48-107f-4e21-eec1-aab0d27988d0"
      },
      "execution_count": 98,
      "outputs": [
        {
          "output_type": "stream",
          "name": "stdout",
          "text": [
            "carlos.zainea@nlp.com\n",
            "juan.ramirez@nlp.com\n",
            "lina.mendez@nlp.com\n"
          ]
        },
        {
          "output_type": "execute_result",
          "data": {
            "text/plain": [
              "   Nombre Apellido Nombre apellido                  Correo\n",
              "0  carlos   zainea   carlos zainea   carlos.zainea@nlp.com\n",
              "1    juan  ramirez    juan ramirez  juan.ramirez05@nlp.com\n",
              "2    lina   mendez     lina mendez   lina.mendez12@nlp.com"
            ],
            "text/html": [
              "\n",
              "  <div id=\"df-eeba7096-9791-4451-a041-c31516038184\">\n",
              "    <div class=\"colab-df-container\">\n",
              "      <div>\n",
              "<style scoped>\n",
              "    .dataframe tbody tr th:only-of-type {\n",
              "        vertical-align: middle;\n",
              "    }\n",
              "\n",
              "    .dataframe tbody tr th {\n",
              "        vertical-align: top;\n",
              "    }\n",
              "\n",
              "    .dataframe thead th {\n",
              "        text-align: right;\n",
              "    }\n",
              "</style>\n",
              "<table border=\"1\" class=\"dataframe\">\n",
              "  <thead>\n",
              "    <tr style=\"text-align: right;\">\n",
              "      <th></th>\n",
              "      <th>Nombre</th>\n",
              "      <th>Apellido</th>\n",
              "      <th>Nombre apellido</th>\n",
              "      <th>Correo</th>\n",
              "    </tr>\n",
              "  </thead>\n",
              "  <tbody>\n",
              "    <tr>\n",
              "      <th>0</th>\n",
              "      <td>carlos</td>\n",
              "      <td>zainea</td>\n",
              "      <td>carlos zainea</td>\n",
              "      <td>carlos.zainea@nlp.com</td>\n",
              "    </tr>\n",
              "    <tr>\n",
              "      <th>1</th>\n",
              "      <td>juan</td>\n",
              "      <td>ramirez</td>\n",
              "      <td>juan ramirez</td>\n",
              "      <td>juan.ramirez05@nlp.com</td>\n",
              "    </tr>\n",
              "    <tr>\n",
              "      <th>2</th>\n",
              "      <td>lina</td>\n",
              "      <td>mendez</td>\n",
              "      <td>lina mendez</td>\n",
              "      <td>lina.mendez12@nlp.com</td>\n",
              "    </tr>\n",
              "  </tbody>\n",
              "</table>\n",
              "</div>\n",
              "      <button class=\"colab-df-convert\" onclick=\"convertToInteractive('df-eeba7096-9791-4451-a041-c31516038184')\"\n",
              "              title=\"Convert this dataframe to an interactive table.\"\n",
              "              style=\"display:none;\">\n",
              "        \n",
              "  <svg xmlns=\"http://www.w3.org/2000/svg\" height=\"24px\"viewBox=\"0 0 24 24\"\n",
              "       width=\"24px\">\n",
              "    <path d=\"M0 0h24v24H0V0z\" fill=\"none\"/>\n",
              "    <path d=\"M18.56 5.44l.94 2.06.94-2.06 2.06-.94-2.06-.94-.94-2.06-.94 2.06-2.06.94zm-11 1L8.5 8.5l.94-2.06 2.06-.94-2.06-.94L8.5 2.5l-.94 2.06-2.06.94zm10 10l.94 2.06.94-2.06 2.06-.94-2.06-.94-.94-2.06-.94 2.06-2.06.94z\"/><path d=\"M17.41 7.96l-1.37-1.37c-.4-.4-.92-.59-1.43-.59-.52 0-1.04.2-1.43.59L10.3 9.45l-7.72 7.72c-.78.78-.78 2.05 0 2.83L4 21.41c.39.39.9.59 1.41.59.51 0 1.02-.2 1.41-.59l7.78-7.78 2.81-2.81c.8-.78.8-2.07 0-2.86zM5.41 20L4 18.59l7.72-7.72 1.47 1.35L5.41 20z\"/>\n",
              "  </svg>\n",
              "      </button>\n",
              "      \n",
              "  <style>\n",
              "    .colab-df-container {\n",
              "      display:flex;\n",
              "      flex-wrap:wrap;\n",
              "      gap: 12px;\n",
              "    }\n",
              "\n",
              "    .colab-df-convert {\n",
              "      background-color: #E8F0FE;\n",
              "      border: none;\n",
              "      border-radius: 50%;\n",
              "      cursor: pointer;\n",
              "      display: none;\n",
              "      fill: #1967D2;\n",
              "      height: 32px;\n",
              "      padding: 0 0 0 0;\n",
              "      width: 32px;\n",
              "    }\n",
              "\n",
              "    .colab-df-convert:hover {\n",
              "      background-color: #E2EBFA;\n",
              "      box-shadow: 0px 1px 2px rgba(60, 64, 67, 0.3), 0px 1px 3px 1px rgba(60, 64, 67, 0.15);\n",
              "      fill: #174EA6;\n",
              "    }\n",
              "\n",
              "    [theme=dark] .colab-df-convert {\n",
              "      background-color: #3B4455;\n",
              "      fill: #D2E3FC;\n",
              "    }\n",
              "\n",
              "    [theme=dark] .colab-df-convert:hover {\n",
              "      background-color: #434B5C;\n",
              "      box-shadow: 0px 1px 3px 1px rgba(0, 0, 0, 0.15);\n",
              "      filter: drop-shadow(0px 1px 2px rgba(0, 0, 0, 0.3));\n",
              "      fill: #FFFFFF;\n",
              "    }\n",
              "  </style>\n",
              "\n",
              "      <script>\n",
              "        const buttonEl =\n",
              "          document.querySelector('#df-eeba7096-9791-4451-a041-c31516038184 button.colab-df-convert');\n",
              "        buttonEl.style.display =\n",
              "          google.colab.kernel.accessAllowed ? 'block' : 'none';\n",
              "\n",
              "        async function convertToInteractive(key) {\n",
              "          const element = document.querySelector('#df-eeba7096-9791-4451-a041-c31516038184');\n",
              "          const dataTable =\n",
              "            await google.colab.kernel.invokeFunction('convertToInteractive',\n",
              "                                                     [key], {});\n",
              "          if (!dataTable) return;\n",
              "\n",
              "          const docLinkHtml = 'Like what you see? Visit the ' +\n",
              "            '<a target=\"_blank\" href=https://colab.research.google.com/notebooks/data_table.ipynb>data table notebook</a>'\n",
              "            + ' to learn more about interactive tables.';\n",
              "          element.innerHTML = '';\n",
              "          dataTable['output_type'] = 'display_data';\n",
              "          await google.colab.output.renderOutput(dataTable, element);\n",
              "          const docLink = document.createElement('div');\n",
              "          docLink.innerHTML = docLinkHtml;\n",
              "          element.appendChild(docLink);\n",
              "        }\n",
              "      </script>\n",
              "    </div>\n",
              "  </div>\n",
              "  "
            ]
          },
          "metadata": {},
          "execution_count": 98
        }
      ]
    },
    {
      "cell_type": "markdown",
      "source": [
        "Uso de mas caracteres especiales *y+"
      ],
      "metadata": {
        "id": "kd5u88a9k0eO"
      }
    },
    {
      "cell_type": "code",
      "source": [
        "#Otro Ejercicio\n",
        "texto = \"\"\"\n",
        "Hoy hablaba con menJulianaax, pero me dijo que no podía hablar con ella. Así que busqué a\n",
        "menMaríaax, pero no la encontré.Termine hablando con menPedroax y efectivamente, me confirmó\n",
        "que se habían ido a una reunión.\n",
        "\"\"\"\n",
        "\n",
        "#re.findall(\"[A-Z]\",texto)\n",
        "\n"
      ],
      "metadata": {
        "id": "WLW8ToZRjPvx"
      },
      "execution_count": 66,
      "outputs": []
    },
    {
      "cell_type": "code",
      "source": [
        "re.findall(\"ax\",\"menJulianaax\")"
      ],
      "metadata": {
        "colab": {
          "base_uri": "https://localhost:8080/"
        },
        "id": "H0QbDT2Ql3dP",
        "outputId": "56cabfd0-be80-439a-db1a-368809b3ac17"
      },
      "execution_count": 75,
      "outputs": [
        {
          "output_type": "execute_result",
          "data": {
            "text/plain": [
              "['ax']"
            ]
          },
          "metadata": {},
          "execution_count": 75
        }
      ]
    },
    {
      "cell_type": "code",
      "source": [
        "re.findall(\"men*ax\",\"mennnnnax\") #busca muchos n que es la ultima letra "
      ],
      "metadata": {
        "colab": {
          "base_uri": "https://localhost:8080/"
        },
        "id": "9GSxU6E6nXTJ",
        "outputId": "fb59cfa8-e5ee-47f9-bb3e-f21014e25f38"
      },
      "execution_count": 89,
      "outputs": [
        {
          "output_type": "execute_result",
          "data": {
            "text/plain": [
              "['mennnnnax']"
            ]
          },
          "metadata": {},
          "execution_count": 89
        }
      ]
    },
    {
      "cell_type": "code",
      "source": [
        "re.findall(\"men.*ax. |men.*ax. \",texto)"
      ],
      "metadata": {
        "colab": {
          "base_uri": "https://localhost:8080/"
        },
        "id": "4uOzP9virDH-",
        "outputId": "3e3a0082-679b-40ed-99c0-0fe8407070d1"
      },
      "execution_count": 101,
      "outputs": [
        {
          "output_type": "execute_result",
          "data": {
            "text/plain": [
              "['menJulianaax, ', 'menMaríaax, ']"
            ]
          },
          "metadata": {},
          "execution_count": 101
        }
      ]
    },
    {
      "cell_type": "code",
      "source": [
        "re.findall(\"men.*ax\",\"menJulianaax\")"
      ],
      "metadata": {
        "colab": {
          "base_uri": "https://localhost:8080/"
        },
        "id": "4Ls-YpDTmgVE",
        "outputId": "266349d9-20a4-400c-a96a-a4b74f85cdb4"
      },
      "execution_count": 90,
      "outputs": [
        {
          "output_type": "execute_result",
          "data": {
            "text/plain": [
              "['menJulianaax']"
            ]
          },
          "metadata": {},
          "execution_count": 90
        }
      ]
    },
    {
      "cell_type": "code",
      "source": [
        "\n",
        "for i in texto.split():\n",
        "  lista =re.findall(\"men.*ax\",i)\n",
        "  #print(lista)\n",
        "  if len(lista)==1:\n",
        "    print(i)\n",
        "    "
      ],
      "metadata": {
        "colab": {
          "base_uri": "https://localhost:8080/"
        },
        "id": "hxgn2eoHlECo",
        "outputId": "0b72a703-f704-4e23-d431-ab8e3bab2d20"
      },
      "execution_count": 94,
      "outputs": [
        {
          "output_type": "stream",
          "name": "stdout",
          "text": [
            "menJulianaax,\n",
            "menMaríaax,\n",
            "menPedroax\n"
          ]
        }
      ]
    },
    {
      "cell_type": "code",
      "source": [
        "for i in texto.split():\n",
        "  if re.match(\"men.*ax\",i):\n",
        "    j = re.sub(\"^men\",\"\",i)\n",
        "    print(re.sub(\"ax.*$\",\"\",j))"
      ],
      "metadata": {
        "colab": {
          "base_uri": "https://localhost:8080/"
        },
        "id": "U7ZY4hbsoAYH",
        "outputId": "40ea0f6c-af1b-41b4-b557-1cb90f31d7bd"
      },
      "execution_count": 97,
      "outputs": [
        {
          "output_type": "stream",
          "name": "stdout",
          "text": [
            "Juliana\n",
            "María\n",
            "Pedro\n"
          ]
        }
      ]
    },
    {
      "cell_type": "code",
      "source": [
        "#Otro ejercicio\n",
        "\n",
        "Texto=\"\"\"\n",
        "En la resolución 287 se hace mención de que para notificar \n",
        "a los usuarios deben enviarse coreos a los señores: Juan garza, con correo\n",
        "jgarza@mimail.com, Julian Perez, con correo miperez25@otromail.com, Yeiber Preciado, \n",
        "con correo el.yei@mail.edu.co.\n",
        "\n",
        "\"\"\"\n",
        "\n",
        "\n",
        "\n"
      ],
      "metadata": {
        "id": "W9P4z0iYpb7M"
      },
      "execution_count": 102,
      "outputs": []
    },
    {
      "cell_type": "code",
      "source": [
        "re.findall(\" .+@.*\",Texto)"
      ],
      "metadata": {
        "colab": {
          "base_uri": "https://localhost:8080/"
        },
        "id": "xEa-dVNArZtM",
        "outputId": "8921de08-de97-4fcb-b996-70dc2c937dbb"
      },
      "execution_count": 114,
      "outputs": [
        {
          "output_type": "execute_result",
          "data": {
            "text/plain": [
              "[' Julian Perez, con correo miperez25@otromail.com, Yeiber Preciado, ',\n",
              " ' correo el.yei@mail.edu.co.']"
            ]
          },
          "metadata": {},
          "execution_count": 114
        }
      ]
    },
    {
      "cell_type": "markdown",
      "source": [
        "Caracteres \\A\\b\\B\\d\\D\\W\\w\\S\\s\\Z\n",
        "\n",
        "\\w -> Hace match con caracteres que son letras de la A a la Z, digitos guiones bajos, \n",
        "\n",
        "\\W -> Hace match con caracteres  que No\n",
        "son letras de la A a la Z"
      ],
      "metadata": {
        "id": "ZTmG52UOs1EP"
      }
    },
    {
      "cell_type": "code",
      "source": [
        "re.findall(\".+@\",Texto)"
      ],
      "metadata": {
        "colab": {
          "base_uri": "https://localhost:8080/"
        },
        "id": "v4GELHvDsILJ",
        "outputId": "f1abcba1-6df8-4e28-febb-69e6ddf30b1f"
      },
      "execution_count": 122,
      "outputs": [
        {
          "output_type": "execute_result",
          "data": {
            "text/plain": [
              "['jgarza@mimail.com, Julian Perez, con correo miperez25@',\n",
              " 'con correo el.yei@']"
            ]
          },
          "metadata": {},
          "execution_count": 122
        }
      ]
    },
    {
      "cell_type": "code",
      "source": [
        "re.findall(\"[\\w\\.]+@[\\w\\.]+\",Texto)"
      ],
      "metadata": {
        "colab": {
          "base_uri": "https://localhost:8080/"
        },
        "id": "FAv-CC7bshNM",
        "outputId": "e73059d1-5b28-42d8-df70-8c6948852f0b"
      },
      "execution_count": 136,
      "outputs": [
        {
          "output_type": "execute_result",
          "data": {
            "text/plain": [
              "['jgarza@mimail.com', 'miperez25@otromail.com', 'el.yei@mail.edu.co.']"
            ]
          },
          "metadata": {},
          "execution_count": 136
        }
      ]
    },
    {
      "cell_type": "markdown",
      "source": [
        "\\d -> Hace match con digitos\n",
        "\n",
        "\\D -> Hace math con lo que no es digito"
      ],
      "metadata": {
        "id": "MP2BI40NuLkj"
      }
    },
    {
      "cell_type": "code",
      "source": [
        "#Otro ejemplo\n",
        "\n",
        "Texto=\"\"\"\n",
        "En un bar consegui el teléfono de María, que era 31010101010. Más tarde una miesteriosa chica me escribió:\n",
        "Recuerda llamarme al 3111112121. Finalmente, la mesera me dijo que su teléfono era 2141515.\n",
        "\"\"\"\n",
        "\n"
      ],
      "metadata": {
        "id": "uJUz-A5Tub2_"
      },
      "execution_count": 137,
      "outputs": []
    },
    {
      "cell_type": "code",
      "source": [
        "re.findall(\"\\d+\",Texto)"
      ],
      "metadata": {
        "colab": {
          "base_uri": "https://localhost:8080/"
        },
        "id": "tjWf-LdducIq",
        "outputId": "e7cb5a3e-d5ee-4843-a595-862da37388bb"
      },
      "execution_count": 138,
      "outputs": [
        {
          "output_type": "execute_result",
          "data": {
            "text/plain": [
              "['31010101010', '3111112121', '2141515']"
            ]
          },
          "metadata": {},
          "execution_count": 138
        }
      ]
    },
    {
      "cell_type": "code",
      "source": [
        "#se necesita solo los número de celulares\n",
        "\n",
        "re.findall(\"\\d{10}\",Texto)"
      ],
      "metadata": {
        "colab": {
          "base_uri": "https://localhost:8080/"
        },
        "id": "ahS_7SUMucZz",
        "outputId": "e7788d60-c6d2-4e41-f697-fcf51aba0872"
      },
      "execution_count": 139,
      "outputs": [
        {
          "output_type": "execute_result",
          "data": {
            "text/plain": [
              "['3101010101', '3111112121']"
            ]
          },
          "metadata": {},
          "execution_count": 139
        }
      ]
    },
    {
      "cell_type": "code",
      "source": [
        "re.findall(\" \\d{10}[ \\.,]\",Texto)"
      ],
      "metadata": {
        "colab": {
          "base_uri": "https://localhost:8080/"
        },
        "id": "cZHYQDYRvdWx",
        "outputId": "9002d807-c323-4df5-84b6-9d982fe99330"
      },
      "execution_count": 141,
      "outputs": [
        {
          "output_type": "execute_result",
          "data": {
            "text/plain": [
              "[' 3111112121.']"
            ]
          },
          "metadata": {},
          "execution_count": 141
        }
      ]
    },
    {
      "cell_type": "code",
      "source": [
        "re.search(\" \\d{10}[ \\.,]\",Texto).span()"
      ],
      "metadata": {
        "colab": {
          "base_uri": "https://localhost:8080/"
        },
        "id": "vS3cNmcswGpZ",
        "outputId": "6c63479c-9cc5-4a0f-a7b5-e31452747273"
      },
      "execution_count": 143,
      "outputs": [
        {
          "output_type": "execute_result",
          "data": {
            "text/plain": [
              "(128, 140)"
            ]
          },
          "metadata": {},
          "execution_count": 143
        }
      ]
    },
    {
      "cell_type": "code",
      "source": [
        ""
      ],
      "metadata": {
        "id": "bfGuhvl-wsZ9"
      },
      "execution_count": null,
      "outputs": []
    },
    {
      "cell_type": "markdown",
      "source": [
        "\\A -> iniio Documento\n",
        "\n",
        "\\b -> inicio o final de palabra\n",
        "\n",
        "\\B -> Que no este en  el inicio o final de la palabra"
      ],
      "metadata": {
        "id": "BHWLL75Lwuhy"
      }
    },
    {
      "cell_type": "code",
      "source": [
        "re.findall(r\"\\bmen\",texto)#se utiliza r por b es un caracter especial"
      ],
      "metadata": {
        "colab": {
          "base_uri": "https://localhost:8080/"
        },
        "id": "fHGmc7OSws8U",
        "outputId": "6e832440-e850-4203-9e46-4f1634008617"
      },
      "execution_count": 146,
      "outputs": [
        {
          "output_type": "execute_result",
          "data": {
            "text/plain": [
              "['men', 'men', 'men']"
            ]
          },
          "metadata": {},
          "execution_count": 146
        }
      ]
    },
    {
      "cell_type": "markdown",
      "source": [
        "\\s -> busca caracteres especiales \\n\\t\\r\\f\\v\\b espacios blancos.\n",
        "\n",
        "\\S -> busca caracteres especiales que NO \\n\\t\\r\\f\\v\\b espacios blancos.\n"
      ],
      "metadata": {
        "id": "9DCj5HPYykYY"
      }
    },
    {
      "cell_type": "code",
      "source": [
        ""
      ],
      "metadata": {
        "id": "ZKTrQec2ws_G"
      },
      "execution_count": null,
      "outputs": []
    },
    {
      "cell_type": "code",
      "execution_count": 92,
      "metadata": {
        "colab": {
          "base_uri": "https://localhost:8080/",
          "height": 36
        },
        "id": "rxI4TPMdzLoF",
        "outputId": "232e9fff-c849-4a6e-c340-5f486daad5cf"
      },
      "outputs": [
        {
          "output_type": "execute_result",
          "data": {
            "text/plain": [
              "'Hay RR peras y RR manzanas'"
            ],
            "application/vnd.google.colaboratory.intrinsic+json": {
              "type": "string"
            }
          },
          "metadata": {},
          "execution_count": 92
        }
      ],
      "source": [
        "\n",
        "re.sub(\"[0-9]\",\"RR\", \"Hay 5 peras y 2 manzanas\")"
      ]
    },
    {
      "cell_type": "code",
      "execution_count": null,
      "metadata": {
        "id": "JUTGWAVazWHd"
      },
      "outputs": [],
      "source": [
        "re.sub(\"[^a-z]\",\"RR\", \"Hay 5 peras y 2 manzanas\")"
      ]
    },
    {
      "cell_type": "markdown",
      "metadata": {
        "id": "GwOR70fyzvyH"
      },
      "source": [
        "Más metacaractéres: [Ejemplos](https://www.programiz.com/python-programming/regex)"
      ]
    },
    {
      "cell_type": "code",
      "execution_count": null,
      "metadata": {
        "id": "TREvkrkPzvN7"
      },
      "outputs": [],
      "source": [
        "import re\n",
        "\n",
        "string = 'Twelve:12 Eighty nine:89.'\n",
        "pattern = '\\d+'\n",
        "\n",
        "result = re.split(pattern, string) \n",
        "print(result)"
      ]
    },
    {
      "cell_type": "code",
      "execution_count": null,
      "metadata": {
        "id": "2yPcdEf-z87b"
      },
      "outputs": [],
      "source": [
        "import re\n",
        "\n",
        "string = 'Twelve:12 Eighty nine:89 Nine:9.'\n",
        "pattern = '\\d+'\n",
        "\n",
        "# maxsplit = 1\n",
        "# split only at the first occurrence\n",
        "result = re.split(pattern, string, 1) \n",
        "print(result)\n"
      ]
    },
    {
      "cell_type": "code",
      "execution_count": null,
      "metadata": {
        "id": "4F9FIbQ7z-_W"
      },
      "outputs": [],
      "source": [
        "s = 'Pingüino: Málaga es una ciudad fantástica y en Logroño me pica el... moño'\n",
        "a,b = 'áéíóúü','aeiouu'\n",
        "trans = str.maketrans(a,b)\n",
        "\n",
        "print(s.translate(trans))"
      ]
    },
    {
      "cell_type": "code",
      "execution_count": null,
      "metadata": {
        "id": "EXEGx0yo1n_B"
      },
      "outputs": [],
      "source": [
        "#https://es.stackoverflow.com/questions/135707/c%C3%B3mo-puedo-reemplazar-las-letras-con-tildes-por-las-mismas-sin-tilde-pero-no-l\n",
        "import re\n",
        "from unicodedata import normalize\n",
        "\n",
        "s = \"Pingüino: Málãgà ês uñ̺ã cíudãd fantástica y èn Logroño me pica el... moño\"\n",
        "\n",
        "\n",
        "# -> NFD y eliminar diacríticos\n",
        "s = re.sub(\n",
        "        r\"([^n\\u0300-\\u036f]|n(?!\\u0303(?![\\u0300-\\u036f])))[\\u0300-\\u036f]+\", r\"\\1\", \n",
        "        normalize( \"NFD\", s), 0, re.I\n",
        "    )\n",
        "\n",
        "# -> NFC\n",
        "s = normalize( 'NFC', s)\n",
        "\n",
        "print( s )"
      ]
    },
    {
      "cell_type": "markdown",
      "metadata": {
        "id": "RG7V2CTXnUb1"
      },
      "source": [
        "## Diccionarios\n",
        "\n",
        "Un diccionario es una estructura de datos indexada por claves o metadatos que pueden ser de cualquier tipo. Se usan con distintos lenguajes y se caracterizan por la facilidad en la implementación de procesos que evitan en los programadores la preocupación de estructurar datos. \n",
        "\n",
        "Usando el texto definido arriba crearemos un diccionario que guarde la cantidad de palabras que aparecieron en el texto:"
      ]
    },
    {
      "cell_type": "code",
      "execution_count": 147,
      "metadata": {
        "colab": {
          "base_uri": "https://localhost:8080/"
        },
        "id": "u1OmalRBnUb2",
        "outputId": "9bdce3b9-2bc2-4bd6-da20-e48c1c6c7277"
      },
      "outputs": [
        {
          "output_type": "stream",
          "name": "stdout",
          "text": [
            "{'Donald': 1, 'Knuth:': 1, 'Se': 1, 'le': 1, 'conoce': 1, 'principalmente': 1, 'por': 1, 'ser': 1, 'el': 4, 'autor': 1, 'de': 12, 'la': 3, 'obra': 1, 'The': 1, 'Art': 1, 'of': 1, 'Computer': 1, 'Programming': 1, '(El': 1, 'arte': 1, 'programar': 1, 'computadoras),': 1, 'una': 1, 'las': 3, 'más': 1, 'respetadas': 1, 'referencias': 1, 'en': 1, 'campo': 1, 'ciencias': 1, 'computación.': 1, 'Sentó': 1, 'bases': 1, 'y': 3, 'dio': 1, 'nombre': 1, 'al': 1, 'análisis': 2, 'algoritmos,': 1, 'ha': 1, 'realizado': 1, 'numerosos': 1, 'aportes': 1, 'a': 1, 'varias': 1, 'ramas': 1, 'teóricas': 1, 'informática.': 1, 'Es': 1, 'creador': 1, 'TEX,': 1, 'del': 3, 'sistema': 1, 'diseño': 1, 'tipos': 1, 'METAFONT': 1, 'estilo': 1, 'programación': 2, 'conocido': 2, 'como': 2, 'literaria': 1, '(Literate': 1, 'programming).': 1, 'Knuth': 1, 'es': 1, \"'padre\": 1, \"algoritmos'.\": 1}\n"
          ]
        }
      ],
      "source": [
        "frecuencias={}\n",
        "for palabra in Texto1.split():\n",
        "    if palabra in frecuencias:\n",
        "        frecuencias[palabra]+=1\n",
        "    else:\n",
        "        frecuencias[palabra]=1\n",
        "print(frecuencias)        "
      ]
    },
    {
      "cell_type": "code",
      "source": [
        ""
      ],
      "metadata": {
        "id": "3xcNirqPzV4l"
      },
      "execution_count": null,
      "outputs": []
    },
    {
      "cell_type": "code",
      "source": [
        "re.findall(\"^@##\") #este simbolo ^ trae el codigo qu e no es"
      ],
      "metadata": {
        "id": "Df6z9vxK0YII"
      },
      "execution_count": null,
      "outputs": []
    },
    {
      "cell_type": "code",
      "execution_count": null,
      "metadata": {
        "id": "RsfH9ojpnUb6"
      },
      "outputs": [],
      "source": [
        "Texto1paradic=re.sub( \"[^A-Za-z0-9óáéíú]+\",' ',Texto1)"
      ]
    },
    {
      "cell_type": "code",
      "execution_count": null,
      "metadata": {
        "id": "JRncf-3anUcC"
      },
      "outputs": [],
      "source": [
        "frecuencias={}\n",
        "for palabra in Texto1paradic.split():\n",
        "    if palabra in frecuencias:\n",
        "        frecuencias[palabra]+=1\n",
        "    else:\n",
        "        frecuencias[palabra]=1\n",
        "print(frecuencias) "
      ]
    },
    {
      "cell_type": "markdown",
      "metadata": {
        "id": "37J7lQnznUcF"
      },
      "source": [
        "## Algo de gráficos\n",
        "\n",
        "Veamos a continuación algunas gráficas sencillas para vsualizar la frecuencia textual en este pequeño parrafo, necesitaremos instalar dos paquetes:\n",
        "\n",
        "`wordcloud` y `stop-words`"
      ]
    },
    {
      "cell_type": "code",
      "execution_count": null,
      "metadata": {
        "id": "ZdM9-oYFnUcG",
        "scrolled": true
      },
      "outputs": [],
      "source": [
        "!pip install wordcloud\n",
        "!pip install stop-words"
      ]
    },
    {
      "cell_type": "code",
      "execution_count": null,
      "metadata": {
        "id": "Zsf8HnJXnUcP"
      },
      "outputs": [],
      "source": [
        "import numpy as np\n",
        "from PIL import Image\n",
        "from urllib.request import urlopen\n",
        "from wordcloud import WordCloud, ImageColorGenerator\n",
        "from stop_words import get_stop_words\n",
        "import matplotlib.pyplot as plt\n",
        "%matplotlib inline"
      ]
    },
    {
      "cell_type": "markdown",
      "metadata": {
        "id": "YWNswlU5nUcU"
      },
      "source": [
        "### Diagramas de barras\n",
        "\n",
        "Iniciemos creando un diagrama de barras, observe que se transforma el diccionario en una lista para poder hacer el gráfico,"
      ]
    },
    {
      "cell_type": "code",
      "execution_count": null,
      "metadata": {
        "id": "tu7BMCg5nUcV"
      },
      "outputs": [],
      "source": [
        "plt.figure(figsize=(15,10))\n",
        "plt.bar(range(len(frecuencias)), list(frecuencias.values()), align='center')\n",
        "plt.xticks(range(len(frecuencias)), list(frecuencias.keys()),rotation=90)\n",
        "plt.xlabel(\"Palabra\")\n",
        "plt.ylabel(\"Cantidad de palabras\")\n",
        "plt.show()"
      ]
    },
    {
      "cell_type": "markdown",
      "metadata": {
        "id": "bUqdN8NfnUcY"
      },
      "source": [
        "Ahora hacemos el mismo ejercicio pero organizando los valores:"
      ]
    },
    {
      "cell_type": "code",
      "execution_count": null,
      "metadata": {
        "id": "5qbqni6anUcY"
      },
      "outputs": [],
      "source": [
        "import operator\n",
        "frecuencias_ordenadas=sorted(frecuencias.items(),key=operator.itemgetter(1),reverse=True)\n",
        "dictfrecord=dict((key,value) for key,value in frecuencias_ordenadas)"
      ]
    },
    {
      "cell_type": "code",
      "execution_count": null,
      "metadata": {
        "id": "sUuXKrDxnUcc"
      },
      "outputs": [],
      "source": [
        "plt.figure(figsize=(15,10))\n",
        "plt.bar(range(len(dictfrecord)), list(dictfrecord.values()), align='center')\n",
        "plt.xticks(range(len(dictfrecord)), list(dictfrecord.keys()),rotation=90)\n",
        "plt.xlabel(\"Palabra\")\n",
        "plt.ylabel(\"Cantidad de palabras\")\n",
        "plt.show()"
      ]
    },
    {
      "cell_type": "markdown",
      "metadata": {
        "id": "AbLCprs7nUch"
      },
      "source": [
        "### Word Cloud\n",
        "\n",
        "Word cloud es un tipo de gráfico bien interesante que dibuja las palabras de acuerdo a su frecuencia, cuando aparece muchas veces una palabra la dibuja más grande. "
      ]
    },
    {
      "cell_type": "code",
      "execution_count": null,
      "metadata": {
        "id": "4VqtGM7DnUci"
      },
      "outputs": [],
      "source": [
        "wordcloud = WordCloud(max_font_size=50, max_words=100, background_color=\"white\").generate(Texto1paradic)\n",
        "plt.figure()\n",
        "plt.imshow(wordcloud, interpolation=\"bilinear\")\n",
        "plt.axis(\"off\")\n",
        "plt.show()"
      ]
    },
    {
      "cell_type": "code",
      "execution_count": null,
      "metadata": {
        "id": "GEXYxmngnUcl"
      },
      "outputs": [],
      "source": [
        "stop_words=get_stop_words(\"es\")\n",
        "stop_words\n",
        "wordcloud = WordCloud(stopwords=stop_words, max_font_size=50, max_words=100, background_color=\"white\").generate(Texto1paradic)\n",
        "plt.figure()\n",
        "plt.imshow(wordcloud, interpolation=\"bilinear\")\n",
        "plt.axis(\"off\")\n",
        "plt.show()"
      ]
    },
    {
      "cell_type": "code",
      "execution_count": null,
      "metadata": {
        "id": "6strF8LdnUcq"
      },
      "outputs": [],
      "source": [
        "foto=urlopen(\"https://www.ucentral.edu.co/sites/default/files/inline-images/maest-analitica-datos_0.jpg\")\n",
        "fondo=np.array(Image.open(foto))"
      ]
    },
    {
      "cell_type": "code",
      "execution_count": null,
      "metadata": {
        "id": "Dk9z6HdOnUct"
      },
      "outputs": [],
      "source": [
        "wordcloud = WordCloud(stopwords=stop_words, max_font_size=80, max_words=100, background_color=\"white\",mask=fondo).generate(Texto1paradic)\n",
        "image_colors = ImageColorGenerator(fondo)\n",
        "plt.figure(figsize=[7,7])\n",
        "plt.imshow(wordcloud.recolor(color_func=image_colors), interpolation=\"bilinear\")\n",
        "plt.axis(\"off\")\n",
        "plt.show()"
      ]
    },
    {
      "cell_type": "markdown",
      "metadata": {
        "id": "EctLve1InUcx"
      },
      "source": [
        "## Lectura de páginas web usando BeautifulSoup y NLTK\n",
        "\n",
        "[BeautifulSoup](https://www.crummy.com/software/BeautifulSoup/bs4/doc/) es una biblioteca de Python para extraer datos de archivos HTML y XML. Funciona con su analizador favorito para proporcionar formas idiomáticas de navegar, buscar y modificar el árbol de análisis. Comúnmente ahorra a los programadores horas o días de trabajo.\n",
        "\n",
        "[NLTK - Natural Language ToolKit -](https://www.nltk.org/) es una libreia imprescindible en el lenguaje natural para Python. Cuenta con más de 50 corpus y recursos léxicos como WordNet, junto con un conjunto de bibliotecas de procesamiento de texto para clasificación, tokenización, derivación, etiquetado, análisis y razonamiento semántico, envoltorios para bibliotecas de PNL de potencia industrial y un foro de discusión activo.\n"
      ]
    },
    {
      "cell_type": "code",
      "execution_count": null,
      "metadata": {
        "id": "eingaeC3nUcx"
      },
      "outputs": [],
      "source": [
        "pagina=urlopen(\"https://www.ucentral.edu.co/programa-academico/maestria-analitica-datos\")\n",
        "CodHTML=pagina.read().decode(\"utf-8\")"
      ]
    },
    {
      "cell_type": "code",
      "execution_count": null,
      "metadata": {
        "id": "hfGjuvggnUc1"
      },
      "outputs": [],
      "source": [
        "#CodHTML"
      ]
    },
    {
      "cell_type": "markdown",
      "metadata": {
        "id": "haZfQnKSnUc3"
      },
      "source": [
        "Limpieza simple usando expresiones regulares:"
      ]
    },
    {
      "cell_type": "code",
      "execution_count": null,
      "metadata": {
        "id": "Weu334A7nUc4"
      },
      "outputs": [],
      "source": [
        " CodHTMLclean1=re.split('\\W+',CodHTML)"
      ]
    },
    {
      "cell_type": "markdown",
      "metadata": {
        "id": "RB8jIBj4nUc9"
      },
      "source": [
        "Limpieza usando BeautifulSoup:"
      ]
    },
    {
      "cell_type": "code",
      "execution_count": null,
      "metadata": {
        "id": "_Zvk7gJTnUc9"
      },
      "outputs": [],
      "source": [
        "import nltk\n",
        "nltk.download('punkt')"
      ]
    },
    {
      "cell_type": "code",
      "execution_count": null,
      "metadata": {
        "id": "qEoVLy4anUdA"
      },
      "outputs": [],
      "source": [
        "from bs4 import BeautifulSoup\n",
        "\n",
        "CodHTMLclean=BeautifulSoup(CodHTML).get_text()\n",
        "tokens = nltk.word_tokenize(CodHTMLclean)"
      ]
    },
    {
      "cell_type": "code",
      "execution_count": null,
      "metadata": {
        "id": "4yIffBQ6nUdG"
      },
      "outputs": [],
      "source": [
        "print(CodHTMLclean)"
      ]
    },
    {
      "cell_type": "code",
      "execution_count": null,
      "metadata": {
        "id": "1sQa2m8pnUdI"
      },
      "outputs": [],
      "source": [
        "tokens.index(\"Maestría\")"
      ]
    },
    {
      "cell_type": "code",
      "execution_count": null,
      "metadata": {
        "id": "zCMWemfmnUdL"
      },
      "outputs": [],
      "source": [
        "import nltk\n",
        "Freq_dist_nltk=nltk.FreqDist(tokens[2091:4511])"
      ]
    },
    {
      "cell_type": "code",
      "execution_count": null,
      "metadata": {
        "id": "uETtOT3EnUdO"
      },
      "outputs": [],
      "source": [
        "Freq_dist_nltk"
      ]
    },
    {
      "cell_type": "code",
      "execution_count": null,
      "metadata": {
        "id": "dh4zJHFsnUdW"
      },
      "outputs": [],
      "source": [
        "Freq_dist_nltk.plot(20)"
      ]
    },
    {
      "cell_type": "code",
      "execution_count": null,
      "metadata": {
        "id": "gAUl0NlvnUdc"
      },
      "outputs": [],
      "source": [
        "stop_words=get_stop_words(\"es\")\n",
        "tokensclean=[pal for pal in tokens[2091:4511] if len(pal.lower())>1 and (pal.lower() not in stop_words)]"
      ]
    },
    {
      "cell_type": "code",
      "execution_count": null,
      "metadata": {
        "id": "wZDCBOJbnUde"
      },
      "outputs": [],
      "source": [
        "tokensclean"
      ]
    },
    {
      "cell_type": "code",
      "execution_count": null,
      "metadata": {
        "id": "BTMi5nMxnUdi"
      },
      "outputs": [],
      "source": [
        "Freq_dist=nltk.FreqDist(tokensclean)"
      ]
    },
    {
      "cell_type": "code",
      "execution_count": null,
      "metadata": {
        "id": "NNyUltTHnUdm"
      },
      "outputs": [],
      "source": [
        "Freq_dist.plot(20)"
      ]
    },
    {
      "cell_type": "code",
      "execution_count": null,
      "metadata": {
        "id": "KWsGN9XNnUdo"
      },
      "outputs": [],
      "source": [
        "minuscularizar= lambda x: x.lower()\n",
        "Freq_dist2=nltk.FreqDist(list(map(minuscularizar,tokensclean)))"
      ]
    },
    {
      "cell_type": "code",
      "execution_count": null,
      "metadata": {
        "id": "8CoHj4aknUdp"
      },
      "outputs": [],
      "source": [
        "Freq_dist2.plot(20)"
      ]
    },
    {
      "cell_type": "code",
      "execution_count": null,
      "metadata": {
        "id": "-gY1YE3bnUdr"
      },
      "outputs": [],
      "source": [
        "wordcloud = WordCloud(max_font_size=50, max_words=100, background_color=\"white\").generate(\" \".join(tokensclean))\n",
        "plt.figure()\n",
        "plt.imshow(wordcloud, interpolation=\"bilinear\")\n",
        "plt.axis(\"off\")\n",
        "plt.show()"
      ]
    }
  ],
  "metadata": {
    "colab": {
      "name": "Preprocesamiento de texto.ipynb",
      "provenance": [],
      "collapsed_sections": [],
      "include_colab_link": true
    },
    "kernelspec": {
      "display_name": "Python 3.9.12 ('base')",
      "language": "python",
      "name": "python3"
    },
    "language_info": {
      "codemirror_mode": {
        "name": "ipython",
        "version": 3
      },
      "file_extension": ".py",
      "mimetype": "text/x-python",
      "name": "python",
      "nbconvert_exporter": "python",
      "pygments_lexer": "ipython3",
      "version": "3.9.12"
    },
    "toc": {
      "base_numbering": 1,
      "nav_menu": {},
      "number_sections": true,
      "sideBar": true,
      "skip_h1_title": false,
      "title_cell": "Table of Contents",
      "title_sidebar": "Contents",
      "toc_cell": false,
      "toc_position": {},
      "toc_section_display": true,
      "toc_window_display": false
    },
    "vscode": {
      "interpreter": {
        "hash": "56c061c6a3605692dd8f68d833a6cd95e25f484a98386b6702ce308f04d6b922"
      }
    }
  },
  "nbformat": 4,
  "nbformat_minor": 0
}